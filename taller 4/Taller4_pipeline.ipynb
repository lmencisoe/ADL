{
  "nbformat": 4,
  "nbformat_minor": 0,
  "metadata": {
    "colab": {
      "provenance": [],
      "authorship_tag": "ABX9TyNHJW7DnDwSas1OtulcCJ8/",
      "include_colab_link": true
    },
    "kernelspec": {
      "name": "python3",
      "display_name": "Python 3"
    },
    "language_info": {
      "name": "python"
    },
    "accelerator": "GPU",
    "gpuClass": "standard"
  },
  "cells": [
    {
      "cell_type": "markdown",
      "metadata": {
        "id": "view-in-github",
        "colab_type": "text"
      },
      "source": [
        "<a href=\"https://colab.research.google.com/github/lmencisoe/ADL/blob/main/taller%204/Taller4_pipeline.ipynb\" target=\"_parent\"><img src=\"https://colab.research.google.com/assets/colab-badge.svg\" alt=\"Open In Colab\"/></a>"
      ]
    },
    {
      "cell_type": "code",
      "execution_count": 34,
      "metadata": {
        "id": "SGuEetECoZWJ"
      },
      "outputs": [],
      "source": [
        "import pandas as pd\n",
        "import numpy as np\n",
        "import pandas as pd\n",
        "import matplotlib.pyplot as plt\n",
        "%matplotlib inline\n",
        "from pandas_profiling import ProfileReport\n",
        "from sklearn.linear_model import LogisticRegression\n",
        "from sklearn.neural_network import MLPClassifier\n",
        "from sklearn.svm import SVC\n",
        "from sklearn.ensemble import RandomForestClassifier\n",
        "from sklearn.metrics import ConfusionMatrixDisplay, precision_score, recall_score, f1_score\n",
        "from sklearn.preprocessing import StandardScaler\n",
        "from sklearn.preprocessing import OneHotEncoder\n",
        "from sklearn.impute import SimpleImputer\n",
        "from sklearn.compose import make_column_transformer\n",
        "from sklearn.model_selection import train_test_split\n",
        "from sklearn.compose import ColumnTransformer\n",
        "from sklearn.pipeline import Pipeline\n",
        "from sklearn.model_selection import RandomizedSearchCV\n",
        "import tensorflow as tf\n",
        "import xgboost as xgb\n",
        "from xgboost import XGBClassifier\n",
        "from sklearn.tree import DecisionTreeClassifier, plot_tree\n",
        "from sklearn.feature_extraction import DictVectorizer\n",
        "from sklearn.pipeline import Pipeline\n",
        "from sklearn.model_selection import cross_val_score\n",
        "import seaborn as sns\n",
        "import warnings\n",
        "import re\n",
        "warnings.filterwarnings('ignore')"
      ]
    },
    {
      "cell_type": "code",
      "source": [
        "df_1 = pd.read_json('https://raw.githubusercontent.com/lmencisoe/CDA/main/taller%204/DataSet_Entrenamiento_v1.json')\n",
        "df_2 = pd.read_json('https://raw.githubusercontent.com/lmencisoe/CDA/main/taller%204/DataSet_Entrenamiento_v2.json')"
      ],
      "metadata": {
        "id": "Imey27rtodE8"
      },
      "execution_count": 13,
      "outputs": []
    },
    {
      "cell_type": "code",
      "source": [
        "df_1['TotalCharges'] = df_1['TotalCharges'].replace(\"\", 0)\n",
        "df_1['TotalCharges'] = df_1['TotalCharges'].astype(float)\n",
        "df_2['TotalCharges'] = df_2['TotalCharges'].replace(\"\", 0)\n",
        "df_2['TotalCharges'] = df_2['TotalCharges'].astype(float)"
      ],
      "metadata": {
        "id": "lxqpEH9l65DL"
      },
      "execution_count": 14,
      "outputs": []
    },
    {
      "cell_type": "code",
      "source": [
        "X_total = df_1.drop(['Churn', 'customerID'], axis=1)\n",
        "df_1['target'] = np.where(df_1['Churn']!= 'Yes', 1, 0)\n",
        "Y_total = df_1['target'].astype(float)\n",
        "#X_total = X_total.drop(['target'], axis=1)"
      ],
      "metadata": {
        "id": "ZzDWc_Qfomoh"
      },
      "execution_count": 15,
      "outputs": []
    },
    {
      "cell_type": "code",
      "source": [
        "X_total2 = df_2.drop(['Churn', 'customerID'], axis=1)\n",
        "df_2['target'] = np.where(df_2['Churn']!= 'Yes', 1, 0)\n",
        "Y_total2 = df_2['target'].astype(float)\n",
        "#X_total2 = X_total2.drop(['target'], axis=1)"
      ],
      "metadata": {
        "id": "eqLIp7ER75-G"
      },
      "execution_count": 16,
      "outputs": []
    },
    {
      "cell_type": "code",
      "source": [
        "X_train, X_test, y_train, y_test = train_test_split(X_total, Y_total, test_size=0.2, random_state=2022)"
      ],
      "metadata": {
        "id": "yR1wzOVi_YW6"
      },
      "execution_count": 17,
      "outputs": []
    },
    {
      "cell_type": "code",
      "source": [
        "cat_features = X_total.select_dtypes(exclude=[\"float64\", \"int64\"]).columns.to_list()\n",
        "numeric_features = X_total.select_dtypes([\"float64\", \"int64\"]).columns.to_list()\n",
        "\n",
        "categorical_transformer = Pipeline(\n",
        "            steps=[\n",
        "                ('imputer', SimpleImputer(strategy='constant', fill_value='missing')),\n",
        "                ('encoder', OneHotEncoder())\n",
        "            ]\n",
        "        )    \n",
        "\n",
        "numeric_transformer = Pipeline(\n",
        "            steps=[\n",
        "                ('imputer', SimpleImputer(strategy='most_frequent')),\n",
        "                ('scaler', StandardScaler())\n",
        "            ]\n",
        "        )\n",
        "\n",
        "preprocessor = ColumnTransformer(\n",
        "            transformers=[\n",
        "                ('numerical', numeric_transformer, numeric_features),\n",
        "                ('categorical', categorical_transformer, cat_features)\n",
        "            ]\n",
        "        )"
      ],
      "metadata": {
        "id": "rTdOYFG7Un5a"
      },
      "execution_count": 37,
      "outputs": []
    },
    {
      "cell_type": "code",
      "source": [
        "xgb_pipeline = Pipeline(\n",
        "            [\n",
        "                (\"preprocessor\", preprocessor),\n",
        "                (\n",
        "                    \"classifier\", XGBClassifier(),\n",
        "                ),\n",
        "            ]\n",
        "        )"
      ],
      "metadata": {
        "id": "XSK9snvXw2sZ"
      },
      "execution_count": 27,
      "outputs": []
    },
    {
      "cell_type": "code",
      "source": [
        "xgb_param_grid = {\n",
        "    'classifier__learning_rate': np.arange(0.05, 1, 0.05),\n",
        "    'classifier__max_depth': np.arange(3, 10, 1),\n",
        "    'classifier__n_estimators': np.arange(50, 200, 50)\n",
        "}\n",
        "\n",
        "# Perform RandomizedSearchCV\n",
        "randomized_roc_auc_xgb = RandomizedSearchCV(estimator=xgb_pipeline, \n",
        "                                            param_distributions=gbm_param_grid,\n",
        "                                            n_iter=50,\n",
        "                                            scoring='roc_auc',\n",
        "                                            cv=3, \n",
        "                                            verbose=1)\n",
        "\n",
        "# Fit the estimator\n",
        "with tf.device('/device:GPU:0'): \n",
        "  randomized_roc_auc_xgb.fit(X_train, y_train)\n",
        "\n",
        "# Compute metrics\n",
        "print('Score: ', randomized_roc_auc.best_score_)\n",
        "#print('Estimator: ', randomized_roc_auc.best_estimator_)"
      ],
      "metadata": {
        "colab": {
          "base_uri": "https://localhost:8080/"
        },
        "id": "gxYIffhr9FPi",
        "outputId": "94584d93-5b4f-4ae3-c91e-e7b841456591"
      },
      "execution_count": 35,
      "outputs": [
        {
          "output_type": "stream",
          "name": "stdout",
          "text": [
            "Fitting 2 folds for each of 50 candidates, totalling 100 fits\n",
            "Score:  0.840700712356648\n",
            "Estimator:  Pipeline(steps=[('preprocessor',\n",
            "                 ColumnTransformer(transformers=[('numerical',\n",
            "                                                  Pipeline(steps=[('imputer',\n",
            "                                                                   SimpleImputer(strategy='most_frequent')),\n",
            "                                                                  ('scaler',\n",
            "                                                                   StandardScaler())]),\n",
            "                                                  ['SeniorCitizen', 'tenure',\n",
            "                                                   'MonthlyCharges',\n",
            "                                                   'TotalCharges']),\n",
            "                                                 ('categorical',\n",
            "                                                  Pipeline(steps=[('imputer',\n",
            "                                                                   SimpleImputer(fill_value='missing',\n",
            "                                                                                 strategy='constant')),\n",
            "                                                                  ('encoder',\n",
            "                                                                   OneHotEncoder())]),\n",
            "                                                  ['gender', 'Partner',\n",
            "                                                   'Dependents', 'PhoneService',\n",
            "                                                   'MultipleLines',\n",
            "                                                   'InternetService',\n",
            "                                                   'OnlineSecurity',\n",
            "                                                   'OnlineBackup',\n",
            "                                                   'DeviceProtection',\n",
            "                                                   'TechSupport', 'StreamingTV',\n",
            "                                                   'StreamingMovies',\n",
            "                                                   'Contract',\n",
            "                                                   'PaperlessBilling',\n",
            "                                                   'PaymentMethod'])])),\n",
            "                ('classifier', XGBClassifier())])\n"
          ]
        }
      ]
    },
    {
      "cell_type": "code",
      "source": [],
      "metadata": {
        "id": "3GN8_ZH8DnT8"
      },
      "execution_count": null,
      "outputs": []
    }
  ]
}